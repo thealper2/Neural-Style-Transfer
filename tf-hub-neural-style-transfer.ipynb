{
 "cells": [
  {
   "cell_type": "code",
   "execution_count": null,
   "metadata": {
    "_cell_guid": "b1076dfc-b9ad-4769-8c92-a6c4dae69d19",
    "_kg_hide-output": true,
    "_uuid": "8f2839f25d086af736a60e9eeb907d3b93b6e0e5"
   },
   "outputs": [],
   "source": [
    "# This Python 3 environment comes with many helpful analytics libraries installed\n",
    "# It is defined by the kaggle/python Docker image: https://github.com/kaggle/docker-python\n",
    "# For example, here's several helpful packages to load\n",
    "\n",
    "import numpy as np # linear algebra\n",
    "import pandas as pd # data processing, CSV file I/O (e.g. pd.read_csv)\n",
    "\n",
    "# Input data files are available in the read-only \"../input/\" directory\n",
    "# For example, running this (by clicking run or pressing Shift+Enter) will list all files under the input directory\n",
    "\n",
    "import os\n",
    "for dirname, _, filenames in os.walk('/kaggle/input'):\n",
    "    for filename in filenames:\n",
    "        print(os.path.join(dirname, filename))\n",
    "\n",
    "# You can write up to 20GB to the current directory (/kaggle/working/) that gets preserved as output when you create a version using \"Save & Run All\" \n",
    "# You can also write temporary files to /kaggle/temp/, but they won't be saved outside of the current session"
   ]
  },
  {
   "cell_type": "markdown",
   "metadata": {},
   "source": [
    "# Import Libraries"
   ]
  },
  {
   "cell_type": "code",
   "execution_count": null,
   "metadata": {},
   "outputs": [],
   "source": [
    "import os\n",
    "os.environ[\"TF_CPP_MIN_LOG_LEVEL\"] = \"3\"\n",
    "\n",
    "import numpy as np\n",
    "import pandas as pd\n",
    "import tensorflow as tf\n",
    "import tensorflow_hub as hub\n",
    "\n",
    "from PIL import Image\n",
    "import matplotlib.pyplot as plt"
   ]
  },
  {
   "cell_type": "markdown",
   "metadata": {},
   "source": [
    "# Load Data"
   ]
  },
  {
   "cell_type": "code",
   "execution_count": null,
   "metadata": {},
   "outputs": [],
   "source": [
    "art_data_path = \"/kaggle/input/best-artworks-of-all-time/images/images/\"\n",
    "wonders_data_path = \"/kaggle/input/wonders-of-the-world-image-classification/Wonders of World/Wonders of World/\""
   ]
  },
  {
   "cell_type": "code",
   "execution_count": null,
   "metadata": {},
   "outputs": [],
   "source": [
    "arts = []\n",
    "artists = []\n",
    "for artist in os.listdir(art_data_path):\n",
    "    files = os.listdir(os.path.join(art_data_path, artist))\n",
    "    for file in files:\n",
    "        artists.append(artist)\n",
    "        arts.append(os.path.join(art_data_path, artist, file))"
   ]
  },
  {
   "cell_type": "code",
   "execution_count": null,
   "metadata": {},
   "outputs": [],
   "source": [
    "art_df = pd.DataFrame({\n",
    "    \"artist\": artists,\n",
    "    \"art\": arts,\n",
    "})\n",
    "art_df.head()"
   ]
  },
  {
   "cell_type": "code",
   "execution_count": null,
   "metadata": {},
   "outputs": [],
   "source": [
    "art_df.shape"
   ]
  },
  {
   "cell_type": "code",
   "execution_count": null,
   "metadata": {},
   "outputs": [],
   "source": [
    "wonders = []\n",
    "wonders_files = []\n",
    "\n",
    "for wonder in os.listdir(wonders_data_path):\n",
    "    files = os.listdir(os.path.join(wonders_data_path, wonder))\n",
    "    for file in files:\n",
    "        wonders.append(wonder)\n",
    "        wonders_files.append(os.path.join(wonders_data_path, wonder, file))"
   ]
  },
  {
   "cell_type": "code",
   "execution_count": null,
   "metadata": {},
   "outputs": [],
   "source": [
    "wonders_df = pd.DataFrame({\n",
    "    \"name\": wonders,\n",
    "    \"wonder\": wonders_files\n",
    "})\n",
    "\n",
    "wonders_df.head()"
   ]
  },
  {
   "cell_type": "code",
   "execution_count": null,
   "metadata": {},
   "outputs": [],
   "source": [
    "wonders_df.shape"
   ]
  },
  {
   "cell_type": "markdown",
   "metadata": {},
   "source": [
    "# Neural Style Transfer"
   ]
  },
  {
   "cell_type": "code",
   "execution_count": null,
   "metadata": {},
   "outputs": [],
   "source": [
    "model = hub.load(\"https://tfhub.dev/google/magenta/arbitrary-image-stylization-v1-256/2\")"
   ]
  },
  {
   "cell_type": "code",
   "execution_count": null,
   "metadata": {},
   "outputs": [],
   "source": [
    "def neural_style(model, wonders_df, art_df):\n",
    "    content_name, content_img = wonders_df.sample()[[\"name\", \"wonder\"]].values[0]\n",
    "    style_name, style_img = art_df.sample()[[\"artist\", \"art\"]].values[0]\n",
    "    \n",
    "    content_img = Image.open(content_img)    \n",
    "    content_image = tf.convert_to_tensor(content_img, np.float32)\n",
    "    content_image = content_image[tf.newaxis, ...] \n",
    "    content_image /= 255.\n",
    "    \n",
    "    style_img = Image.open(style_img).resize((256, 256))\n",
    "    style_image = tf.convert_to_tensor(style_img, np.float32)\n",
    "    style_image = style_image[tf.newaxis, ...]\n",
    "    style_image /= 255.\n",
    "\n",
    "    output = model(content_image, style_image)\n",
    "    result = Image.fromarray(np.uint8(output[0][0] * 255))\n",
    "\n",
    "    plt.figure(figsize=(12, 5))\n",
    "    plt.subplot(1, 3, 1)\n",
    "    plt.imshow(content_img)\n",
    "    plt.title(content_name)\n",
    "    plt.axis(\"off\")\n",
    "\n",
    "    plt.subplot(1, 3, 2)\n",
    "    plt.imshow(style_img)\n",
    "    plt.title(style_name)\n",
    "    plt.axis(\"off\")\n",
    "\n",
    "    plt.subplot(1, 3, 3)\n",
    "    plt.imshow(result)\n",
    "    plt.title(\"Result\")\n",
    "    plt.axis(\"off\")\n",
    "    \n",
    "    plt.show()"
   ]
  },
  {
   "cell_type": "code",
   "execution_count": null,
   "metadata": {},
   "outputs": [],
   "source": [
    "neural_style(model, wonders_df, art_df)"
   ]
  },
  {
   "cell_type": "code",
   "execution_count": null,
   "metadata": {},
   "outputs": [],
   "source": []
  }
 ],
 "metadata": {
  "kernelspec": {
   "display_name": "Python 3 (ipykernel)",
   "language": "python",
   "name": "python3"
  },
  "language_info": {
   "codemirror_mode": {
    "name": "ipython",
    "version": 3
   },
   "file_extension": ".py",
   "mimetype": "text/x-python",
   "name": "python",
   "nbconvert_exporter": "python",
   "pygments_lexer": "ipython3",
   "version": "3.10.12"
  }
 },
 "nbformat": 4,
 "nbformat_minor": 4
}
